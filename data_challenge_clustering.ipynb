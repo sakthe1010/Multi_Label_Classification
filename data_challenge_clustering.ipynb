{
 "cells": [
  {
   "cell_type": "code",
   "execution_count": null,
   "metadata": {},
   "outputs": [],
   "source": [
    "import numpy as np\n",
    "X1 = np.load('embeddings_1.npy')\n",
    "X2 = np.load('embeddings_2.npy')\n",
    "X_train = np.concatenate((X1, X2), axis=0)\n",
    "X_test = np.load('test_data.npy')"
   ]
  },
  {
   "cell_type": "code",
   "execution_count": 3,
   "metadata": {},
   "outputs": [
    {
     "name": "stdout",
     "output_type": "stream",
     "text": [
      "X dimensions: (198982, 1024)\n"
     ]
    }
   ],
   "source": [
    "num_rows = len(X_train)           # Number of rows\n",
    "num_columns = len(X_train[0])     # Number of columns (assuming non-empty and rectangular)\n",
    "print(\"X dimensions:\", (num_rows, num_columns)) "
   ]
  },
  {
   "cell_type": "code",
   "execution_count": 4,
   "metadata": {},
   "outputs": [
    {
     "name": "stdout",
     "output_type": "stream",
     "text": [
      "X dimensions: (99490, 1024)\n"
     ]
    }
   ],
   "source": [
    "num_rows = len(X_test)           # Number of rows\n",
    "num_columns = len(X_test[0])     # Number of columns (assuming non-empty and rectangular)\n",
    "print(\"X dimensions:\", (num_rows, num_columns)) "
   ]
  },
  {
   "cell_type": "code",
   "execution_count": 5,
   "metadata": {},
   "outputs": [
    {
     "name": "stdout",
     "output_type": "stream",
     "text": [
      "Shape of y: (198982, 1400)\n"
     ]
    }
   ],
   "source": [
    "import tensorflow as tf\n",
    "\n",
    "# Step 1: Read label data from files (assuming you have already defined this part)\n",
    "label_data = []\n",
    "file_names = ['icd_codes_1.txt', 'icd_codes_2.txt']  # Update with actual filenames\n",
    "for file_name in file_names:\n",
    "    with open(file_name, 'r') as file:\n",
    "        label_data.extend(line.strip() for line in file if line.strip())\n",
    "\n",
    "# Step 2: Create a set of unique ICD-10 codes for efficient lookup\n",
    "unique_codes = set()\n",
    "for labels in label_data:\n",
    "    unique_codes.update(labels.split(\";\"))\n",
    "unique_codes = sorted(unique_codes)  # Convert to a sorted list at the end\n",
    "\n",
    "# Step 3: Initialize the StringLookup layer\n",
    "lookup_layer = tf.keras.layers.StringLookup(vocabulary=unique_codes, output_mode=\"multi_hot\", mask_token=None,num_oov_indices=0)\n",
    "\n",
    "# Step 4: Create a tf.data.Dataset to handle large data efficiently\n",
    "label_data_ds = tf.data.Dataset.from_tensor_slices(label_data)\n",
    "\n",
    "# Step 5: Define a function to encode each label set\n",
    "def encode_labels(labels):\n",
    "    return lookup_layer(tf.strings.split(labels, sep=\";\"))\n",
    "\n",
    "# Step 6: Map encoding function over the dataset and batch it\n",
    "# Batch processing reduces memory usage\n",
    "multi_hot_labels_ds = label_data_ds.map(encode_labels, num_parallel_calls=tf.data.AUTOTUNE).batch(1000)\n",
    "\n",
    "# Step 7: Concatenate all batches to get the final `y` tensor\n",
    "y = tf.concat(list(multi_hot_labels_ds), axis=0)\n",
    "\n",
    "# Ensure the correct shape of `y`\n",
    "print(\"Shape of y:\", y.shape)  # Should output: (200000, 1400)\n",
    "\n",
    "y_train = y.numpy()\n"
   ]
  },
  {
   "cell_type": "code",
   "execution_count": 6,
   "metadata": {},
   "outputs": [
    {
     "name": "stdout",
     "output_type": "stream",
     "text": [
      "Shape of X: (198982, 1024)\n",
      "Shape of y: (198982, 1400)\n"
     ]
    }
   ],
   "source": [
    "print(\"Shape of X:\", X_train.shape)\n",
    "print(\"Shape of y:\", y_train.shape)\n"
   ]
  },
  {
   "cell_type": "code",
   "execution_count": 7,
   "metadata": {},
   "outputs": [],
   "source": [
    "# from sklearn.model_selection import train_test_split\n",
    "\n",
    "# X_train, X_test, y_train, y_test = train_test_split(X, y, test_size=0.2, random_state=42)\n",
    "\n",
    "# print(\"X_train shape:\", X_train.shape)\n",
    "# print(\"y_train shape:\", y_train.shape)\n",
    "# print(\"X_test shape:\", X_test.shape)\n",
    "# print(\"y_test shape:\", y_test.shape)"
   ]
  },
  {
   "cell_type": "code",
   "execution_count": 14,
   "metadata": {},
   "outputs": [
    {
     "name": "stdout",
     "output_type": "stream",
     "text": [
      "CSV files created in the 'label_files' folder.\n"
     ]
    }
   ],
   "source": [
    "import pandas as pd\n",
    "import os\n",
    "import tensorflow as tf\n",
    "\n",
    "# Define output folder for CSV files\n",
    "output_folder = \"label_files\"\n",
    "os.makedirs(output_folder, exist_ok=True)\n",
    "\n",
    "# Save each column as a separate CSV file\n",
    "for label_index in range(y_train.shape[1]):\n",
    "    # Extract each column (label) and save as a binary CSV\n",
    "    label_data = pd.DataFrame(y_train[:, label_index], columns=[f'label_{label_index}'])\n",
    "    label_data.to_csv(f\"{output_folder}/label_{label_index}.csv\", index=False, header=False)\n",
    "\n",
    "print(\"CSV files created in the 'label_files' folder.\")\n"
   ]
  },
  {
   "cell_type": "code",
   "execution_count": null,
   "metadata": {},
   "outputs": [
    {
     "name": "stdout",
     "output_type": "stream",
     "text": [
      "Training complete. Models saved in the 'models' folder.\n"
     ]
    }
   ],
   "source": [
    "import numpy as np\n",
    "from sklearn.linear_model import LogisticRegression\n",
    "from joblib import Parallel, delayed\n",
    "import joblib\n",
    "\n",
    "# Folder for saving models\n",
    "model_folder = \"models\"\n",
    "os.makedirs(model_folder, exist_ok=True)\n",
    "\n",
    "# Function to train a model for each label\n",
    "def train_model_for_label(label_index):\n",
    "    # Load the binary target data for this label\n",
    "    y_train = pd.read_csv(f\"{output_folder}/label_{label_index}.csv\", header=None).values.ravel()\n",
    "    \n",
    "    # Initialize and train the model\n",
    "    model = LogisticRegression(max_iter=100)\n",
    "    model.fit(X_train, y_train)\n",
    "    \n",
    "    # Save the model\n",
    "    model_path = f\"{model_folder}/model_{label_index}.pkl\"\n",
    "    joblib.dump(model, model_path)\n",
    "    \n",
    "    return model\n",
    "\n",
    "# Train each model in parallel\n",
    "Parallel(n_jobs=8)(delayed(train_model_for_label)(i) for i in range(y_train.shape[1]))\n",
    "\n",
    "print(\"Training complete. Models saved in the 'models' folder.\")"
   ]
  },
  {
   "cell_type": "code",
   "execution_count": null,
   "metadata": {},
   "outputs": [],
   "source": [
    "from sklearn.cluster import DBSCAN\n",
    "\n",
    "# Initialize and fit DBSCAN\n",
    "dbscan = DBSCAN(eps=0.5, min_samples=5, metric='cosine')  # cosine or other metric if data is sparse\n",
    "labels = dbscan.fit_predict(X_train)\n",
    "\n",
    "# Analyze clusters\n",
    "num_clusters = len(set(labels)) - (1 if -1 in labels else 0)  # -1 represents noise\n",
    "print(f\"Number of clusters: {num_clusters}\")\n"
   ]
  },
  {
   "cell_type": "code",
   "execution_count": null,
   "metadata": {},
   "outputs": [
    {
     "name": "stdout",
     "output_type": "stream",
     "text": [
      "Predictions saved to 'submission.csv'.\n"
     ]
    }
   ],
   "source": [
    "import tensorflow as tf\n",
    "import numpy as np\n",
    "import pandas as pd\n",
    "import joblib\n",
    "import os\n",
    "\n",
    "num_labels = len(unique_codes)  # Total number of labels\n",
    "\n",
    "# Initialize the StringLookup layer for reverse lookup\n",
    "lookup_layer = tf.keras.layers.StringLookup(\n",
    "    vocabulary=unique_codes, invert=True, output_mode=\"int\", mask_token=None, num_oov_indices=0\n",
    ")\n",
    "\n",
    "# Folder where models are saved\n",
    "model_folder = \"models\"\n",
    "\n",
    "# Array to store binary predictions for each label\n",
    "y_pred = np.zeros((X_test.shape[0], num_labels), dtype=int)\n",
    "\n",
    "# Predict for each label using the corresponding model\n",
    "for label_index in range(num_labels):\n",
    "    # Load the saved model for this label\n",
    "    model_path = f\"{model_folder}/model_{label_index}.pkl\"\n",
    "    model = joblib.load(model_path)\n",
    "    \n",
    "    # Predict probabilities for the test set and convert to binary labels\n",
    "    y_pred_probs = model.predict_proba(X_test)[:, 1]  # Take probabilities for the positive class\n",
    "    y_pred[:, label_index] = (y_pred_probs > 0.5).astype(int)\n",
    "\n",
    "# Convert binary predictions to ICD-10 codes\n",
    "predicted_indices = [np.where(pred_row == 1)[0] for pred_row in y_pred]\n",
    "predicted_codes = [lookup_layer(indices).numpy() for indices in predicted_indices]\n",
    "predicted_codes = [[code.decode('utf-8') for code in row] for row in predicted_codes]\n",
    "\n",
    "# Join ICD-10 codes with semicolons for each test instance\n",
    "predicted_labels = [';'.join(row) for row in predicted_codes]\n",
    "\n",
    "# Create the final submission DataFrame\n",
    "submission_df = pd.DataFrame({\n",
    "    'id': range(1, len(predicted_labels) + 1),\n",
    "    'labels': predicted_labels\n",
    "})\n",
    "\n",
    "# Save to CSV file\n",
    "submission_df.to_csv('submission.csv', index=False)\n",
    "\n",
    "print(\"Predictions saved to 'submission.csv'.\")"
   ]
  },
  {
   "cell_type": "code",
   "execution_count": 1,
   "metadata": {},
   "outputs": [
    {
     "ename": "NameError",
     "evalue": "name 'y' is not defined",
     "output_type": "error",
     "traceback": [
      "\u001b[1;31m---------------------------------------------------------------------------\u001b[0m",
      "\u001b[1;31mNameError\u001b[0m                                 Traceback (most recent call last)",
      "Cell \u001b[1;32mIn[1], line 6\u001b[0m\n\u001b[0;32m      3\u001b[0m \u001b[38;5;28;01mimport\u001b[39;00m \u001b[38;5;21;01mnumpy\u001b[39;00m \u001b[38;5;28;01mas\u001b[39;00m \u001b[38;5;21;01mnp\u001b[39;00m\n\u001b[0;32m      5\u001b[0m \u001b[38;5;66;03m# Visualize the distribution of the number of labels per sample\u001b[39;00m\n\u001b[1;32m----> 6\u001b[0m num_labels_per_sample \u001b[38;5;241m=\u001b[39m np\u001b[38;5;241m.\u001b[39msum(\u001b[43my\u001b[49m, axis\u001b[38;5;241m=\u001b[39m\u001b[38;5;241m1\u001b[39m)\n\u001b[0;32m      7\u001b[0m plt\u001b[38;5;241m.\u001b[39mhist(num_labels_per_sample, bins\u001b[38;5;241m=\u001b[39m\u001b[38;5;28mrange\u001b[39m(\u001b[38;5;241m1\u001b[39m, \u001b[38;5;241m10\u001b[39m))\n\u001b[0;32m      8\u001b[0m plt\u001b[38;5;241m.\u001b[39mxlabel(\u001b[38;5;124m\"\u001b[39m\u001b[38;5;124mNumber of Labels\u001b[39m\u001b[38;5;124m\"\u001b[39m)\n",
      "\u001b[1;31mNameError\u001b[0m: name 'y' is not defined"
     ]
    }
   ],
   "source": [
    "import matplotlib.pyplot as plt\n",
    "import seaborn as sns\n",
    "import numpy as np\n",
    "\n",
    "# Visualize the distribution of the number of labels per sample\n",
    "num_labels_per_sample = np.sum(y, axis=1)\n",
    "plt.hist(num_labels_per_sample, bins=range(1, 10))\n",
    "plt.xlabel(\"Number of Labels\")\n",
    "plt.ylabel(\"Frequency\")\n",
    "plt.title(\"Distribution of Labels per Sample\")\n",
    "plt.show()\n",
    "\n",
    "# Visualize the most common labels\n",
    "label_counts = np.sum(y, axis=0)\n",
    "plt.bar(range(len(label_counts)), label_counts)\n",
    "plt.xlabel(\"Labels\")\n",
    "plt.ylabel(\"Frequency\")\n",
    "plt.title(\"Label Frequency Distribution\")\n",
    "plt.show()"
   ]
  },
  {
   "cell_type": "code",
   "execution_count": 1,
   "metadata": {},
   "outputs": [
    {
     "name": "stdout",
     "output_type": "stream",
     "text": [
      "Num GPUs Available:  0\n"
     ]
    }
   ],
   "source": [
    "import tensorflow as tf\n",
    "\n",
    "print(\"Num GPUs Available: \", len(tf.config.list_physical_devices('GPU')))\n"
   ]
  },
  {
   "cell_type": "code",
   "execution_count": null,
   "metadata": {},
   "outputs": [],
   "source": []
  }
 ],
 "metadata": {
  "kernelspec": {
   "display_name": "Python 3",
   "language": "python",
   "name": "python3"
  },
  "language_info": {
   "codemirror_mode": {
    "name": "ipython",
    "version": 3
   },
   "file_extension": ".py",
   "mimetype": "text/x-python",
   "name": "python",
   "nbconvert_exporter": "python",
   "pygments_lexer": "ipython3",
   "version": "3.12.5"
  }
 },
 "nbformat": 4,
 "nbformat_minor": 2
}
