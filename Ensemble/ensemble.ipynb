{
 "cells": [
  {
   "cell_type": "code",
   "execution_count": 21,
   "metadata": {},
   "outputs": [],
   "source": [
    "import tensorflow as tf\n",
    "import numpy as np\n",
    "import pandas as pd\n",
    "from glob import glob\n",
    "import os\n",
    "\n",
    "# Specify the current directory as the location for both reading and saving files\n",
    "file_directory = \".\"  # This points to the folder containing both the notebook and CSV files\n",
    "file_paths = glob(os.path.join(file_directory, \"*.csv\"))\n",
    "predictions = [pd.read_csv(file) for file in file_paths]"
   ]
  },
  {
   "cell_type": "code",
   "execution_count": 22,
   "metadata": {},
   "outputs": [
    {
     "data": {
      "text/plain": [
       "[          id                          labels\n",
       " 0          1                          G56.21\n",
       " 1          2                  M65.9;S83.242A\n",
       " 2          3                          G56.01\n",
       " 3          4                         M65.312\n",
       " 4          5               S83.241A;S83.281A\n",
       " ...      ...                             ...\n",
       " 99485  99486  D12.0;D12.5;K57.30;K63.5;K64.9\n",
       " 99486  99487      K20.90;K29.50;K31.89;K90.0\n",
       " 99487  99488        D12.2;D12.5;K64.8;Z12.11\n",
       " 99488  99489             B96.81;K21.9;K29.50\n",
       " 99489  99490              D12.2;D12.3;Z12.11\n",
       " \n",
       " [99490 rows x 2 columns],\n",
       "           id                           labels\n",
       " 0          1                           G56.21\n",
       " 1          2                   M65.9;S83.242A\n",
       " 2          3                           G56.01\n",
       " 3          4                          M65.312\n",
       " 4          5                S83.241A;S83.281A\n",
       " ...      ...                              ...\n",
       " 99485  99486   D12.0;D12.5;K57.30;K63.5;K64.9\n",
       " 99486  99487      K20.90;K29.50;K31.89;Z87.19\n",
       " 99487  99488         D12.2;D12.5;K64.8;Z12.11\n",
       " 99488  99489              B96.81;K21.9;K29.50\n",
       " 99489  99490  D12.2;D12.3;K63.89;K64.0;Z12.11\n",
       " \n",
       " [99490 rows x 2 columns],\n",
       "           id                    labels\n",
       " 0          1                    G56.21\n",
       " 1          2            M65.9;S83.242A\n",
       " 2          3                    G56.01\n",
       " 3          4                   M65.312\n",
       " 4          5         S83.241A;S83.281A\n",
       " ...      ...                       ...\n",
       " 99485  99486  D12.0;K57.30;K63.5;K64.9\n",
       " 99486  99487       K20.90;K31.89;K90.0\n",
       " 99487  99488  D12.2;D12.5;K64.8;Z12.11\n",
       " 99488  99489       B96.81;K21.9;K29.50\n",
       " 99489  99490        D12.2;D12.3;Z12.11\n",
       " \n",
       " [99490 rows x 2 columns],\n",
       "           id                          labels\n",
       " 0          1                          G56.21\n",
       " 1          2                  M65.9;S83.242A\n",
       " 2          3                          G56.01\n",
       " 3          4                         M65.312\n",
       " 4          5               S83.241A;S83.281A\n",
       " ...      ...                             ...\n",
       " 99485  99486  D12.0;D12.5;K57.30;K63.5;K64.9\n",
       " 99486  99487      K20.90;K29.50;K31.89;K90.0\n",
       " 99487  99488        D12.2;D12.5;K64.8;Z12.11\n",
       " 99488  99489             B96.81;K21.9;K29.50\n",
       " 99489  99490        D12.2;D12.3;K64.0;Z12.11\n",
       " \n",
       " [99490 rows x 2 columns],\n",
       "           id                      labels\n",
       " 0          1                      G56.21\n",
       " 1          2              M65.9;S83.242A\n",
       " 2          3                      G56.01\n",
       " 3          4                     M65.312\n",
       " 4          5           S83.241A;S83.281A\n",
       " ...      ...                         ...\n",
       " 99485  99486    D12.0;K57.30;K63.5;K64.9\n",
       " 99486  99487  K20.90;K29.50;K31.89;K90.0\n",
       " 99487  99488    D12.2;D12.5;K64.8;Z12.11\n",
       " 99488  99489         B96.81;K21.9;K29.50\n",
       " 99489  99490   D12.2;D12.3;K63.89;Z12.11\n",
       " \n",
       " [99490 rows x 2 columns],\n",
       "           id                      labels\n",
       " 0          1                      G56.21\n",
       " 1          2              M65.9;S83.242A\n",
       " 2          3                      G56.01\n",
       " 3          4                     M65.312\n",
       " 4          5           S83.241A;S83.281A\n",
       " ...      ...                         ...\n",
       " 99485  99486    D12.0;K57.30;K63.5;K64.9\n",
       " 99486  99487  K20.90;K29.50;K31.89;K90.0\n",
       " 99487  99488    D12.2;D12.5;K64.8;Z12.11\n",
       " 99488  99489         B96.81;K21.9;K29.50\n",
       " 99489  99490   D12.2;D12.3;K63.89;Z12.11\n",
       " \n",
       " [99490 rows x 2 columns],\n",
       "           id                          labels\n",
       " 0          1                          G56.21\n",
       " 1          2                  M65.9;S83.242A\n",
       " 2          3                          G56.01\n",
       " 3          4                         M65.312\n",
       " 4          5               S83.241A;S83.281A\n",
       " ...      ...                             ...\n",
       " 99485  99486  D12.0;D12.5;K57.30;K63.5;K64.9\n",
       " 99486  99487             K29.50;K31.89;K90.0\n",
       " 99487  99488        D12.2;D12.5;K64.8;Z12.11\n",
       " 99488  99489             B96.81;K21.9;K29.50\n",
       " 99489  99490       D12.2;D12.3;K63.89;Z12.11\n",
       " \n",
       " [99490 rows x 2 columns],\n",
       "           id                      labels\n",
       " 0          1                      G56.21\n",
       " 1          2              M65.9;S83.242A\n",
       " 2          3                      G56.01\n",
       " 3          4                     M65.312\n",
       " 4          5           S83.241A;S83.281A\n",
       " ...      ...                         ...\n",
       " 99485  99486    D12.0;K57.30;K63.5;K64.9\n",
       " 99486  99487  K20.90;K29.50;K31.89;K90.0\n",
       " 99487  99488    D12.2;D12.5;K64.8;Z12.11\n",
       " 99488  99489         B96.81;K21.9;K29.50\n",
       " 99489  99490   D12.2;D12.3;K63.89;Z12.11\n",
       " \n",
       " [99490 rows x 2 columns],\n",
       "           id                      labels\n",
       " 0          1                      G56.21\n",
       " 1          2              M65.9;S83.242A\n",
       " 2          3                      G56.01\n",
       " 3          4                     M65.312\n",
       " 4          5           S83.241A;S83.281A\n",
       " ...      ...                         ...\n",
       " 99485  99486    D12.0;K57.30;K63.5;K64.9\n",
       " 99486  99487  K20.90;K29.50;K31.89;K90.0\n",
       " 99487  99488    D12.2;D12.5;K64.8;Z12.11\n",
       " 99488  99489         B96.81;K21.9;K29.50\n",
       " 99489  99490          D12.2;D12.3;Z12.11\n",
       " \n",
       " [99490 rows x 2 columns],\n",
       "           id                           labels\n",
       " 0          1                           G56.21\n",
       " 1          2                   M65.9;S83.242A\n",
       " 2          3                           G56.01\n",
       " 3          4                          M65.312\n",
       " 4          5                S83.241A;S83.281A\n",
       " ...      ...                              ...\n",
       " 99485  99486               K57.30;K63.5;K64.9\n",
       " 99486  99487       K20.90;K29.50;K31.89;K90.0\n",
       " 99487  99488         D12.2;D12.5;K64.8;Z12.11\n",
       " 99488  99489                     K21.9;K29.50\n",
       " 99489  99490  D12.2;D12.3;K63.89;K64.0;Z12.11\n",
       " \n",
       " [99490 rows x 2 columns]]"
      ]
     },
     "execution_count": 22,
     "metadata": {},
     "output_type": "execute_result"
    }
   ],
   "source": [
    "predictions"
   ]
  },
  {
   "cell_type": "code",
   "execution_count": 23,
   "metadata": {},
   "outputs": [],
   "source": [
    "# Extract unique ICD10 codes, handling cases where labels might be missing\n",
    "unique_labels = set()\n",
    "for pred in predictions:\n",
    "    if 'labels' in pred.columns:\n",
    "        labels = pred['labels'].fillna('').str.split(';')\n",
    "        for label_list in labels:\n",
    "            unique_labels.update(label_list)\n",
    "\n",
    "# Check if unique_labels is not empty\n",
    "if not unique_labels:\n",
    "    raise ValueError(\"No labels found in any of the CSV files. Please ensure your files contain label data.\")\n",
    "\n",
    "unique_codes = sorted(unique_labels)\n",
    "lookup_layer = tf.keras.layers.StringLookup(vocabulary=unique_codes, mask_token=None, num_oov_indices=0)"
   ]
  },
  {
   "cell_type": "code",
   "execution_count": 24,
   "metadata": {},
   "outputs": [],
   "source": [
    "# Helper function to convert labels back to binary array (y values), filling missing predictions with zeroes\n",
    "def labels_to_binary(pred_df, lookup_layer):\n",
    "    y_matrix = np.zeros((len(pred_df), len(unique_codes)), dtype=int)\n",
    "    for i, label_str in enumerate(pred_df['labels'].fillna('')):  # Fill NaN with empty strings\n",
    "        if label_str:\n",
    "            codes = label_str.split(';')\n",
    "            indices = lookup_layer(codes).numpy()\n",
    "            y_matrix[i, indices] = 1\n",
    "    return y_matrix\n",
    "\n",
    "# Convert each prediction DataFrame to binary matrices\n",
    "binary_predictions = [labels_to_binary(pred, lookup_layer) for pred in predictions]\n",
    "stacked_preds = np.stack(binary_predictions, axis=0)"
   ]
  },
  {
   "cell_type": "code",
   "execution_count": 25,
   "metadata": {},
   "outputs": [],
   "source": [
    "# Ensemble methods\n",
    "def majority_voting(preds):\n",
    "    binary_preds = (preds > 0.5).astype(int)\n",
    "    majority_vote = np.mean(binary_preds, axis=0) >= 0.5\n",
    "    return majority_vote.astype(int)\n",
    "\n",
    "def weighted_average(preds, weights):\n",
    "    weighted_preds = np.average(preds, axis=0, weights=weights)\n",
    "    return (weighted_preds > 0.5).astype(int)\n",
    "\n",
    "def max_pooling(preds):\n",
    "    max_preds = np.max(preds, axis=0)\n",
    "    return (max_preds > 0.5).astype(int)\n",
    "\n",
    "def threshold_adjustment(preds, threshold=0.4):\n",
    "    avg_preds = np.mean(preds, axis=0)\n",
    "    return (avg_preds > threshold).astype(int)"
   ]
  },
  {
   "cell_type": "code",
   "execution_count": 26,
   "metadata": {},
   "outputs": [],
   "source": [
    "# Apply ensemble methods\n",
    "majority_vote_ensemble = majority_voting(stacked_preds)\n",
    "weights = np.ones(len(predictions)) / len(predictions)  # Adjust weights if needed\n",
    "weighted_avg_ensemble = weighted_average(stacked_preds, weights)\n",
    "max_pooling_ensemble = max_pooling(stacked_preds)"
   ]
  },
  {
   "cell_type": "code",
   "execution_count": 27,
   "metadata": {},
   "outputs": [],
   "source": [
    "threshold_adjusted_ensemble = threshold_adjustment(stacked_preds)"
   ]
  },
  {
   "cell_type": "code",
   "execution_count": 28,
   "metadata": {},
   "outputs": [
    {
     "data": {
      "text/plain": [
       "(99490, 1000)"
      ]
     },
     "execution_count": 28,
     "metadata": {},
     "output_type": "execute_result"
    }
   ],
   "source": [
    "weighted_avg_ensemble.shape"
   ]
  },
  {
   "cell_type": "code",
   "execution_count": 29,
   "metadata": {},
   "outputs": [],
   "source": [
    "# Prepare reverse lookup\n",
    "lookup_layer = tf.keras.layers.StringLookup(\n",
    "    vocabulary=unique_codes, invert=True, output_mode=\"int\", mask_token=None, num_oov_indices=0\n",
    ")"
   ]
  },
  {
   "cell_type": "code",
   "execution_count": null,
   "metadata": {},
   "outputs": [
    {
     "ename": "",
     "evalue": "",
     "output_type": "error",
     "traceback": [
      "\u001b[1;31mThe Kernel crashed while executing code in the current cell or a previous cell. \n",
      "\u001b[1;31mPlease review the code in the cell(s) to identify a possible cause of the failure. \n",
      "\u001b[1;31mClick <a href='https://aka.ms/vscodeJupyterKernelCrash'>here</a> for more info. \n",
      "\u001b[1;31mView Jupyter <a href='command:jupyter.viewOutput'>log</a> for further details."
     ]
    }
   ],
   "source": [
    "# Convert predictions to ICD10 codes\n",
    "predicted_indices = [np.where(pred_row == 1)[0] for pred_row in threshold_adjusted_ensemble]\n",
    "predicted_codes = [lookup_layer(indices).numpy() for indices in predicted_indices]\n",
    "predicted_codes = [[code.decode('utf-8') for code in row] for row in predicted_codes]\n",
    "predicted_labels = [';'.join(row) for row in predicted_codes]\n",
    "\n",
    "# Create and save submission DataFrame\n",
    "submission_df = pd.DataFrame({\n",
    "    'id': range(1, len(predicted_labels) + 1),\n",
    "    'labels': predicted_labels\n",
    "})\n",
    "submission_df.to_csv('C:\\\\Users\\\\sakth\\\\OneDrive\\\\Desktop\\\\SEMESTER 7\\\\DATA ANALYTICS LAB\\\\DATA CHALLENGE\\\\da5401-2024-ml-challenge\\\\submission_srini.csv', index=False)"
   ]
  },
  {
   "cell_type": "code",
   "execution_count": null,
   "metadata": {},
   "outputs": [],
   "source": [
    "from sklearn.metrics import classification_report\n",
    "\n",
    "# Convert predictions to ICD10 codes    \n",
    "predicted_indices = [np.where(pred_row == 1)[0] for pred_row in weighted_avg_ensemble]\n",
    "predicted_codes = [lookup_layer(indices).numpy() for indices in predicted_indices]\n",
    "predicted_codes = [[code.decode('utf-8') for code in row] for row in predicted_codes]\n",
    "predicted_labels = [';'.join(row) for row in predicted_codes]   \n"
   ]
  },
  {
   "cell_type": "code",
   "execution_count": null,
   "metadata": {},
   "outputs": [],
   "source": []
  }
 ],
 "metadata": {
  "kernelspec": {
   "display_name": "Python 3",
   "language": "python",
   "name": "python3"
  },
  "language_info": {
   "codemirror_mode": {
    "name": "ipython",
    "version": 3
   },
   "file_extension": ".py",
   "mimetype": "text/x-python",
   "name": "python",
   "nbconvert_exporter": "python",
   "pygments_lexer": "ipython3",
   "version": "3.12.5"
  }
 },
 "nbformat": 4,
 "nbformat_minor": 2
}
